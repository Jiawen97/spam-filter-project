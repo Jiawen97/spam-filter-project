{
 "cells": [
  {
   "cell_type": "code",
   "execution_count": 161,
   "metadata": {},
   "outputs": [],
   "source": [
    "import numpy as np\n",
    "import pandas as pd\n",
    "import email\n",
    "from bs4 import BeautifulSoup\n",
    "import cgi\n",
    "\n",
    "from sklearn.model_selection import train_test_split,KFold\n",
    "from sklearn.metrics import roc_auc_score,roc_curve,auc\n",
    "from sklearn.naive_bayes import GaussianNB,BernoulliNB,MultinomialNB\n",
    "from sklearn.feature_extraction.text import CountVectorizer\n",
    "from sklearn.feature_extraction.text import TfidfTransformer\n",
    "\n",
    "\n",
    "import matplotlib.pyplot as plt\n",
    "%matplotlib inline"
   ]
  },
  {
   "cell_type": "markdown",
   "metadata": {},
   "source": [
    "# Data pre-processing"
   ]
  },
  {
   "cell_type": "markdown",
   "metadata": {},
   "source": [
    "## read trec05p/full/index into a dataframe"
   ]
  },
  {
   "cell_type": "code",
   "execution_count": 2,
   "metadata": {},
   "outputs": [],
   "source": [
    "index_dir='./trec05p/full'\n",
    "filename='/index'\n",
    "f=open(index_dir+filename,'r')\n",
    "lines=f.readlines()"
   ]
  },
  {
   "cell_type": "code",
   "execution_count": 3,
   "metadata": {},
   "outputs": [],
   "source": [
    "email_id=list()\n",
    "label=list()\n",
    "path=list()\n",
    "for line in lines:\n",
    "    if line.startswith('s'):\n",
    "        label.append(line[:4])\n",
    "        path.append(line[7:-1])\n",
    "    else:\n",
    "        label.append(line[:3])\n",
    "        path.append(line[6:-1])\n",
    "    email_id.append(line[-8:-1])"
   ]
  },
  {
   "cell_type": "code",
   "execution_count": 4,
   "metadata": {},
   "outputs": [
    {
     "data": {
      "text/html": [
       "<div>\n",
       "<style scoped>\n",
       "    .dataframe tbody tr th:only-of-type {\n",
       "        vertical-align: middle;\n",
       "    }\n",
       "\n",
       "    .dataframe tbody tr th {\n",
       "        vertical-align: top;\n",
       "    }\n",
       "\n",
       "    .dataframe thead th {\n",
       "        text-align: right;\n",
       "    }\n",
       "</style>\n",
       "<table border=\"1\" class=\"dataframe\">\n",
       "  <thead>\n",
       "    <tr style=\"text-align: right;\">\n",
       "      <th></th>\n",
       "      <th>label</th>\n",
       "      <th>path</th>\n",
       "    </tr>\n",
       "  </thead>\n",
       "  <tbody>\n",
       "    <tr>\n",
       "      <th>0</th>\n",
       "      <td>ham</td>\n",
       "      <td>/data/000/000</td>\n",
       "    </tr>\n",
       "    <tr>\n",
       "      <th>1</th>\n",
       "      <td>ham</td>\n",
       "      <td>/data/000/001</td>\n",
       "    </tr>\n",
       "    <tr>\n",
       "      <th>2</th>\n",
       "      <td>ham</td>\n",
       "      <td>/data/000/002</td>\n",
       "    </tr>\n",
       "    <tr>\n",
       "      <th>3</th>\n",
       "      <td>ham</td>\n",
       "      <td>/data/000/003</td>\n",
       "    </tr>\n",
       "    <tr>\n",
       "      <th>4</th>\n",
       "      <td>ham</td>\n",
       "      <td>/data/000/004</td>\n",
       "    </tr>\n",
       "  </tbody>\n",
       "</table>\n",
       "</div>"
      ],
      "text/plain": [
       "  label           path\n",
       "0   ham  /data/000/000\n",
       "1   ham  /data/000/001\n",
       "2   ham  /data/000/002\n",
       "3   ham  /data/000/003\n",
       "4   ham  /data/000/004"
      ]
     },
     "execution_count": 4,
     "metadata": {},
     "output_type": "execute_result"
    }
   ],
   "source": [
    "label=pd.Series(label)\n",
    "path=pd.Series(path)\n",
    "email_id=pd.Series(email_id)\n",
    "index=pd.DataFrame({'label':label,'path':path})\n",
    "index.head()"
   ]
  },
  {
   "cell_type": "code",
   "execution_count": 5,
   "metadata": {},
   "outputs": [
    {
     "data": {
      "text/plain": [
       "(92189, 2)"
      ]
     },
     "execution_count": 5,
     "metadata": {},
     "output_type": "execute_result"
    }
   ],
   "source": [
    "index.shape"
   ]
  },
  {
   "cell_type": "markdown",
   "metadata": {},
   "source": [
    "## create dataframe (datatable doesn't work well for windows) for each email"
   ]
  },
  {
   "cell_type": "code",
   "execution_count": 5,
   "metadata": {},
   "outputs": [],
   "source": [
    "email_dir='./trec05p'"
   ]
  },
  {
   "cell_type": "code",
   "execution_count": 21,
   "metadata": {},
   "outputs": [],
   "source": [
    "parts=list()\n",
    "attachments=list()\n",
    "html=list()\n",
    "subject=list()\n",
    "body=list()\n",
    "links=list()\n",
    "drop_index=list()\n",
    "receiver=list()"
   ]
  },
  {
   "cell_type": "code",
   "execution_count": 24,
   "metadata": {},
   "outputs": [],
   "source": [
    "for i in range(len(index)):\n",
    "    try:\n",
    "        f=open(email_dir+index['path'][i],'rb')\n",
    "    except:\n",
    "    # drop files do not exist\n",
    "        drop_index.append(i)\n",
    "        continue\n",
    "    b = email.message_from_binary_file(f)\n",
    "    try:\n",
    "        receiver_=b['to'].count('<')\n",
    "    except:\n",
    "        drop_index.append(i)\n",
    "        continue\n",
    "\n",
    "    body_ = \"\"\n",
    "    attachments_=0\n",
    "    html_=0 \n",
    "    links_=0\n",
    "\n",
    "    if b.is_multipart():\n",
    "        parts_=0\n",
    "        for part in b.walk():\n",
    "            parts_+=1\n",
    "            if part.get_content_type()=='text/html':\n",
    "                html_=1\n",
    "                body_= BeautifulSoup(part.get_payload(),'html.parser')\n",
    "                links_=len(body_.find_all(\"a\"))\n",
    "\n",
    "            if part.get('Content-Disposition'):\n",
    "                _,params=cgi.parse_header(part.get('Content-Disposition'))\n",
    "                attachments_=len(params)\n",
    "\n",
    "            if part.get_content_type() == 'text/plain':\n",
    "                body_ = part.get_payload()  \n",
    "\n",
    "            if part.get('Subject'):\n",
    "                subject_=part.get('Subject')\n",
    "    # not multipart \n",
    "    else:\n",
    "        parts_=False\n",
    "        body_ = b.get_payload()\n",
    "        subject_=b.get('Subject')\n",
    "\n",
    "    parts.append(parts_)\n",
    "    attachments.append(attachments_)\n",
    "    html.append(html_) \n",
    "    subject.append(subject_)\n",
    "    body.append(body_)\n",
    "    links.append(links_)\n",
    "    receiver.append(receiver_)"
   ]
  },
  {
   "cell_type": "code",
   "execution_count": 35,
   "metadata": {},
   "outputs": [],
   "source": [
    "email_id=email_id[~email_id.index.isin(drop_index)]\n",
    "label=label[~label.index.isin(drop_index)]"
   ]
  },
  {
   "cell_type": "code",
   "execution_count": 36,
   "metadata": {},
   "outputs": [
    {
     "data": {
      "text/html": [
       "<div>\n",
       "<style scoped>\n",
       "    .dataframe tbody tr th:only-of-type {\n",
       "        vertical-align: middle;\n",
       "    }\n",
       "\n",
       "    .dataframe tbody tr th {\n",
       "        vertical-align: top;\n",
       "    }\n",
       "\n",
       "    .dataframe thead th {\n",
       "        text-align: right;\n",
       "    }\n",
       "</style>\n",
       "<table border=\"1\" class=\"dataframe\">\n",
       "  <thead>\n",
       "    <tr style=\"text-align: right;\">\n",
       "      <th></th>\n",
       "      <th>email_id</th>\n",
       "      <th>parts</th>\n",
       "      <th>attachments</th>\n",
       "      <th>html</th>\n",
       "      <th>subject</th>\n",
       "      <th>body</th>\n",
       "      <th>links</th>\n",
       "      <th>receiver</th>\n",
       "      <th>spam</th>\n",
       "    </tr>\n",
       "  </thead>\n",
       "  <tbody>\n",
       "    <tr>\n",
       "      <th>0</th>\n",
       "      <td>000/000</td>\n",
       "      <td>False</td>\n",
       "      <td>0</td>\n",
       "      <td>0</td>\n",
       "      <td>FW: June 29 -- BNA, Inc. Daily Labor Report</td>\n",
       "      <td>User ID:  enrondlr\\nPW:        bnaweb22\\n\\n\\n ...</td>\n",
       "      <td>0</td>\n",
       "      <td>10</td>\n",
       "      <td>ham</td>\n",
       "    </tr>\n",
       "    <tr>\n",
       "      <th>1</th>\n",
       "      <td>000/001</td>\n",
       "      <td>False</td>\n",
       "      <td>0</td>\n",
       "      <td>0</td>\n",
       "      <td>NGX failover plan.</td>\n",
       "      <td>\\nHi Chris,  \\n\\nTonight we are rolling out a ...</td>\n",
       "      <td>0</td>\n",
       "      <td>1</td>\n",
       "      <td>ham</td>\n",
       "    </tr>\n",
       "    <tr>\n",
       "      <th>2</th>\n",
       "      <td>000/002</td>\n",
       "      <td>False</td>\n",
       "      <td>0</td>\n",
       "      <td>0</td>\n",
       "      <td>RE: Intranet Site</td>\n",
       "      <td>Rika r these new?\\n\\n -----Original Message---...</td>\n",
       "      <td>0</td>\n",
       "      <td>1</td>\n",
       "      <td>ham</td>\n",
       "    </tr>\n",
       "    <tr>\n",
       "      <th>3</th>\n",
       "      <td>000/003</td>\n",
       "      <td>False</td>\n",
       "      <td>0</td>\n",
       "      <td>0</td>\n",
       "      <td>FW: ENA Upstream Company information</td>\n",
       "      <td>John/Gerald,\\n\\nWe are currently trading under...</td>\n",
       "      <td>0</td>\n",
       "      <td>2</td>\n",
       "      <td>ham</td>\n",
       "    </tr>\n",
       "    <tr>\n",
       "      <th>4</th>\n",
       "      <td>000/004</td>\n",
       "      <td>False</td>\n",
       "      <td>0</td>\n",
       "      <td>0</td>\n",
       "      <td>New Master Physical</td>\n",
       "      <td>Gerald and Stacy -\\n\\nAttached is a worksheet ...</td>\n",
       "      <td>0</td>\n",
       "      <td>2</td>\n",
       "      <td>ham</td>\n",
       "    </tr>\n",
       "  </tbody>\n",
       "</table>\n",
       "</div>"
      ],
      "text/plain": [
       "  email_id  parts  attachments  html  \\\n",
       "0  000/000  False            0     0   \n",
       "1  000/001  False            0     0   \n",
       "2  000/002  False            0     0   \n",
       "3  000/003  False            0     0   \n",
       "4  000/004  False            0     0   \n",
       "\n",
       "                                       subject  \\\n",
       "0  FW: June 29 -- BNA, Inc. Daily Labor Report   \n",
       "1                           NGX failover plan.   \n",
       "2                            RE: Intranet Site   \n",
       "3         FW: ENA Upstream Company information   \n",
       "4                          New Master Physical   \n",
       "\n",
       "                                                body  links  receiver spam  \n",
       "0  User ID:  enrondlr\\nPW:        bnaweb22\\n\\n\\n ...      0        10  ham  \n",
       "1  \\nHi Chris,  \\n\\nTonight we are rolling out a ...      0         1  ham  \n",
       "2  Rika r these new?\\n\\n -----Original Message---...      0         1  ham  \n",
       "3  John/Gerald,\\n\\nWe are currently trading under...      0         2  ham  \n",
       "4  Gerald and Stacy -\\n\\nAttached is a worksheet ...      0         2  ham  "
      ]
     },
     "execution_count": 36,
     "metadata": {},
     "output_type": "execute_result"
    }
   ],
   "source": [
    "data_all=pd.DataFrame({'email_id':email_id, 'parts':parts, 'attachments':attachments, 'html':html,'subject':subject,'body':body,'links':links,'receiver':receiver,'spam':label})\n",
    "data_all.head()          "
   ]
  },
  {
   "cell_type": "code",
   "execution_count": 37,
   "metadata": {},
   "outputs": [
    {
     "data": {
      "text/plain": [
       "(89860, 9)"
      ]
     },
     "execution_count": 37,
     "metadata": {},
     "output_type": "execute_result"
    }
   ],
   "source": [
    "data_all.shape"
   ]
  },
  {
   "cell_type": "markdown",
   "metadata": {},
   "source": [
    "1.3 save dataframe into a csv file"
   ]
  },
  {
   "cell_type": "code",
   "execution_count": 38,
   "metadata": {},
   "outputs": [],
   "source": [
    "data_all.to_csv('./emails_05.csv',index=False,header=True)"
   ]
  },
  {
   "cell_type": "markdown",
   "metadata": {},
   "source": [
    "# Train/Test Split"
   ]
  },
  {
   "cell_type": "code",
   "execution_count": 2,
   "metadata": {},
   "outputs": [
    {
     "data": {
      "text/html": [
       "<div>\n",
       "<style scoped>\n",
       "    .dataframe tbody tr th:only-of-type {\n",
       "        vertical-align: middle;\n",
       "    }\n",
       "\n",
       "    .dataframe tbody tr th {\n",
       "        vertical-align: top;\n",
       "    }\n",
       "\n",
       "    .dataframe thead th {\n",
       "        text-align: right;\n",
       "    }\n",
       "</style>\n",
       "<table border=\"1\" class=\"dataframe\">\n",
       "  <thead>\n",
       "    <tr style=\"text-align: right;\">\n",
       "      <th></th>\n",
       "      <th>email_id</th>\n",
       "      <th>parts</th>\n",
       "      <th>attachments</th>\n",
       "      <th>html</th>\n",
       "      <th>subject</th>\n",
       "      <th>body</th>\n",
       "      <th>links</th>\n",
       "      <th>receiver</th>\n",
       "      <th>spam</th>\n",
       "    </tr>\n",
       "  </thead>\n",
       "  <tbody>\n",
       "    <tr>\n",
       "      <th>0</th>\n",
       "      <td>000/000</td>\n",
       "      <td>False</td>\n",
       "      <td>0</td>\n",
       "      <td>0</td>\n",
       "      <td>FW: June 29 -- BNA, Inc. Daily Labor Report</td>\n",
       "      <td>User ID:  enrondlr\\nPW:        bnaweb22\\n\\n\\n ...</td>\n",
       "      <td>0</td>\n",
       "      <td>10</td>\n",
       "      <td>ham</td>\n",
       "    </tr>\n",
       "    <tr>\n",
       "      <th>1</th>\n",
       "      <td>000/001</td>\n",
       "      <td>False</td>\n",
       "      <td>0</td>\n",
       "      <td>0</td>\n",
       "      <td>NGX failover plan.</td>\n",
       "      <td>\\nHi Chris,  \\n\\nTonight we are rolling out a ...</td>\n",
       "      <td>0</td>\n",
       "      <td>1</td>\n",
       "      <td>ham</td>\n",
       "    </tr>\n",
       "    <tr>\n",
       "      <th>2</th>\n",
       "      <td>000/002</td>\n",
       "      <td>False</td>\n",
       "      <td>0</td>\n",
       "      <td>0</td>\n",
       "      <td>RE: Intranet Site</td>\n",
       "      <td>Rika r these new?\\n\\n -----Original Message---...</td>\n",
       "      <td>0</td>\n",
       "      <td>1</td>\n",
       "      <td>ham</td>\n",
       "    </tr>\n",
       "    <tr>\n",
       "      <th>3</th>\n",
       "      <td>000/003</td>\n",
       "      <td>False</td>\n",
       "      <td>0</td>\n",
       "      <td>0</td>\n",
       "      <td>FW: ENA Upstream Company information</td>\n",
       "      <td>John/Gerald,\\n\\nWe are currently trading under...</td>\n",
       "      <td>0</td>\n",
       "      <td>2</td>\n",
       "      <td>ham</td>\n",
       "    </tr>\n",
       "    <tr>\n",
       "      <th>4</th>\n",
       "      <td>000/004</td>\n",
       "      <td>False</td>\n",
       "      <td>0</td>\n",
       "      <td>0</td>\n",
       "      <td>New Master Physical</td>\n",
       "      <td>Gerald and Stacy -\\n\\nAttached is a worksheet ...</td>\n",
       "      <td>0</td>\n",
       "      <td>2</td>\n",
       "      <td>ham</td>\n",
       "    </tr>\n",
       "  </tbody>\n",
       "</table>\n",
       "</div>"
      ],
      "text/plain": [
       "  email_id  parts  attachments  html  \\\n",
       "0  000/000  False            0     0   \n",
       "1  000/001  False            0     0   \n",
       "2  000/002  False            0     0   \n",
       "3  000/003  False            0     0   \n",
       "4  000/004  False            0     0   \n",
       "\n",
       "                                       subject  \\\n",
       "0  FW: June 29 -- BNA, Inc. Daily Labor Report   \n",
       "1                           NGX failover plan.   \n",
       "2                            RE: Intranet Site   \n",
       "3         FW: ENA Upstream Company information   \n",
       "4                          New Master Physical   \n",
       "\n",
       "                                                body  links  receiver spam  \n",
       "0  User ID:  enrondlr\\nPW:        bnaweb22\\n\\n\\n ...      0        10  ham  \n",
       "1  \\nHi Chris,  \\n\\nTonight we are rolling out a ...      0         1  ham  \n",
       "2  Rika r these new?\\n\\n -----Original Message---...      0         1  ham  \n",
       "3  John/Gerald,\\n\\nWe are currently trading under...      0         2  ham  \n",
       "4  Gerald and Stacy -\\n\\nAttached is a worksheet ...      0         2  ham  "
      ]
     },
     "execution_count": 2,
     "metadata": {},
     "output_type": "execute_result"
    }
   ],
   "source": [
    "filename='./emails_05.csv'\n",
    "data=pd.read_csv(filename)\n",
    "data.head()"
   ]
  },
  {
   "cell_type": "code",
   "execution_count": 171,
   "metadata": {},
   "outputs": [],
   "source": [
    "x_train, x_test, y_train, y_test=train_test_split(data.iloc[:,:-1],data.iloc[:,-1], test_size=0.15)\n",
    "y_train=y_train=='spam'\n",
    "y_test=y_test=='spam'"
   ]
  },
  {
   "cell_type": "code",
   "execution_count": 172,
   "metadata": {},
   "outputs": [
    {
     "data": {
      "text/plain": [
       "(76381, 13479)"
      ]
     },
     "execution_count": 172,
     "metadata": {},
     "output_type": "execute_result"
    }
   ],
   "source": [
    "len(x_train),len(x_test)"
   ]
  },
  {
   "cell_type": "markdown",
   "metadata": {},
   "source": [
    "# Naive Bayes Spam Detection"
   ]
  },
  {
   "cell_type": "markdown",
   "metadata": {},
   "source": [
    "## Structural Information Model"
   ]
  },
  {
   "cell_type": "code",
   "execution_count": 200,
   "metadata": {},
   "outputs": [],
   "source": [
    "multipart=x_train['parts'].values\n",
    "multipart[multipart=='False']=1\n",
    "multipart[multipart!=1]=0"
   ]
  },
  {
   "cell_type": "code",
   "execution_count": 201,
   "metadata": {},
   "outputs": [],
   "source": [
    "html=x_train['html'].values"
   ]
  },
  {
   "cell_type": "code",
   "execution_count": 202,
   "metadata": {},
   "outputs": [],
   "source": [
    "links=x_train['links'].values\n",
    "links[links==0]=0\n",
    "links[links!=0]=1"
   ]
  },
  {
   "cell_type": "code",
   "execution_count": 203,
   "metadata": {},
   "outputs": [
    {
     "data": {
      "text/plain": [
       "(76381, 4)"
      ]
     },
     "execution_count": 203,
     "metadata": {},
     "output_type": "execute_result"
    }
   ],
   "source": [
    "attachments=x_train['attachments'].values\n",
    "attachments[attachments==0]=0\n",
    "attachments[attachments!=0]=1\n",
    "train_features=np.c_[multipart,html,links,attachments]\n",
    "train_features.shape"
   ]
  },
  {
   "cell_type": "code",
   "execution_count": 204,
   "metadata": {},
   "outputs": [
    {
     "data": {
      "text/plain": [
       "BernoulliNB(alpha=1.0, binarize=0.0, class_prior=None, fit_prior=True)"
      ]
     },
     "execution_count": 204,
     "metadata": {},
     "output_type": "execute_result"
    }
   ],
   "source": [
    "model1=BernoulliNB()\n",
    "Y=y_train.values\n",
    "model1.fit(train_features,Y)"
   ]
  },
  {
   "cell_type": "code",
   "execution_count": 205,
   "metadata": {},
   "outputs": [],
   "source": [
    "K=5\n",
    "kf=KFold(K,shuffle=True)\n",
    "folds=list(kf.split(train_features))"
   ]
  },
  {
   "cell_type": "code",
   "execution_count": 208,
   "metadata": {},
   "outputs": [],
   "source": [
    "def auc_metric(model,X,Y):\n",
    "    Y_score=model.predict_proba(X)[:,1]\n",
    "    return roc_auc_score(Y,Y_score)\n",
    "def model_cross_validation(model,X,y,folds,metric):\n",
    "    kfolds=len(folds)\n",
    "    train_performance=np.empty(kfolds)\n",
    "    validation_performance=np.empty(kfolds)\n",
    "    for idx in range(kfolds):\n",
    "        train,validation=folds[idx]\n",
    "        X_train=X[train]\n",
    "        y_train=y[train]\n",
    "        model.fit(X_train,y_train)\n",
    "        train_accuracy=metric(model,X_train,y_train)\n",
    "        X_validation=X[validation]\n",
    "        y_validation=y[validation]\n",
    "        validation_accuracy=metric(model,X_validation,y_validation)\n",
    "        train_performance[idx]=train_accuracy\n",
    "        validation_performance[idx]=validation_accuracy\n",
    "    return train_performance,validation_performance"
   ]
  },
  {
   "cell_type": "code",
   "execution_count": 209,
   "metadata": {},
   "outputs": [
    {
     "data": {
      "text/plain": [
       "0.7072130592192222"
      ]
     },
     "execution_count": 209,
     "metadata": {},
     "output_type": "execute_result"
    }
   ],
   "source": [
    "train_acc,val_acc=model_cross_validation(model1,train_features,Y,folds,auc_metric)\n",
    "val_acc.mean()"
   ]
  },
  {
   "cell_type": "code",
   "execution_count": 210,
   "metadata": {},
   "outputs": [],
   "source": [
    "aucs=list()\n",
    "aucs.append(val_acc.mean())"
   ]
  },
  {
   "cell_type": "markdown",
   "metadata": {},
   "source": [
    "## Subject Model"
   ]
  },
  {
   "cell_type": "code",
   "execution_count": 211,
   "metadata": {},
   "outputs": [
    {
     "data": {
      "text/plain": [
       "(76381, 28634)"
      ]
     },
     "execution_count": 211,
     "metadata": {},
     "output_type": "execute_result"
    }
   ],
   "source": [
    "count_vect = CountVectorizer()\n",
    "X_train_counts = count_vect.fit_transform(x_train.subject.apply(lambda x: np.str_(x)))\n",
    "X_train_counts.shape"
   ]
  },
  {
   "cell_type": "code",
   "execution_count": 212,
   "metadata": {},
   "outputs": [
    {
     "data": {
      "text/plain": [
       "(76381, 28634)"
      ]
     },
     "execution_count": 212,
     "metadata": {},
     "output_type": "execute_result"
    }
   ],
   "source": [
    "tfidf_transformer = TfidfTransformer()\n",
    "X_train_tfidf = tfidf_transformer.fit_transform(X_train_counts)\n",
    "X_train_tfidf.shape"
   ]
  },
  {
   "cell_type": "code",
   "execution_count": 213,
   "metadata": {},
   "outputs": [
    {
     "data": {
      "text/plain": [
       "MultinomialNB(alpha=1.0, class_prior=None, fit_prior=True)"
      ]
     },
     "execution_count": 213,
     "metadata": {},
     "output_type": "execute_result"
    }
   ],
   "source": [
    "model2= MultinomialNB()\n",
    "model2.fit(X_train_tfidf,y_train.values)"
   ]
  },
  {
   "cell_type": "code",
   "execution_count": 214,
   "metadata": {},
   "outputs": [
    {
     "data": {
      "text/plain": [
       "0.9747505886951418"
      ]
     },
     "execution_count": 214,
     "metadata": {},
     "output_type": "execute_result"
    }
   ],
   "source": [
    "K=5\n",
    "kf=KFold(K,shuffle=True)\n",
    "folds=list(kf.split(X_train_tfidf))\n",
    "train_acc,val_acc=model_cross_validation(model2,X_train_tfidf,y_train.values,folds,auc_metric)\n",
    "val_acc.mean()"
   ]
  },
  {
   "cell_type": "code",
   "execution_count": 215,
   "metadata": {},
   "outputs": [],
   "source": [
    "aucs.append(val_acc.mean())"
   ]
  },
  {
   "cell_type": "markdown",
   "metadata": {},
   "source": [
    "## Message Body Model"
   ]
  },
  {
   "cell_type": "code",
   "execution_count": 216,
   "metadata": {},
   "outputs": [
    {
     "data": {
      "text/plain": [
       "(76381, 444408)"
      ]
     },
     "execution_count": 216,
     "metadata": {},
     "output_type": "execute_result"
    }
   ],
   "source": [
    "count_vect = CountVectorizer()\n",
    "X_train_counts = count_vect.fit_transform(x_train.body.apply(lambda x: np.str_(x)))\n",
    "X_train_counts.shape"
   ]
  },
  {
   "cell_type": "code",
   "execution_count": 217,
   "metadata": {},
   "outputs": [
    {
     "data": {
      "text/plain": [
       "(76381, 444408)"
      ]
     },
     "execution_count": 217,
     "metadata": {},
     "output_type": "execute_result"
    }
   ],
   "source": [
    "tfidf_transformer = TfidfTransformer()\n",
    "X_train_tfidf = tfidf_transformer.fit_transform(X_train_counts)\n",
    "X_train_tfidf.shape"
   ]
  },
  {
   "cell_type": "code",
   "execution_count": 218,
   "metadata": {},
   "outputs": [
    {
     "data": {
      "text/plain": [
       "MultinomialNB(alpha=1.0, class_prior=None, fit_prior=True)"
      ]
     },
     "execution_count": 218,
     "metadata": {},
     "output_type": "execute_result"
    }
   ],
   "source": [
    "model3= MultinomialNB()\n",
    "model3.fit(X_train_tfidf,y_train.values)"
   ]
  },
  {
   "cell_type": "code",
   "execution_count": 219,
   "metadata": {},
   "outputs": [
    {
     "data": {
      "text/plain": [
       "0.9943551151451206"
      ]
     },
     "execution_count": 219,
     "metadata": {},
     "output_type": "execute_result"
    }
   ],
   "source": [
    "K=5\n",
    "kf=KFold(K,shuffle=True)\n",
    "folds=list(kf.split(X_train_tfidf))\n",
    "train_acc,val_acc=model_cross_validation(model3,X_train_tfidf,y_train.values,folds,auc_metric)\n",
    "val_acc.mean()"
   ]
  },
  {
   "cell_type": "code",
   "execution_count": 220,
   "metadata": {},
   "outputs": [],
   "source": [
    "aucs.append(val_acc.mean())"
   ]
  },
  {
   "cell_type": "markdown",
   "metadata": {},
   "source": [
    "## Bulk-Receiver Model"
   ]
  },
  {
   "cell_type": "code",
   "execution_count": 257,
   "metadata": {},
   "outputs": [
    {
     "data": {
      "text/plain": [
       "(76381,)"
      ]
     },
     "execution_count": 257,
     "metadata": {},
     "output_type": "execute_result"
    }
   ],
   "source": [
    "X=x_train.receiver.values\n",
    "X.shape"
   ]
  },
  {
   "cell_type": "code",
   "execution_count": 222,
   "metadata": {},
   "outputs": [
    {
     "data": {
      "text/plain": [
       "GaussianNB(priors=None, var_smoothing=1e-09)"
      ]
     },
     "execution_count": 222,
     "metadata": {},
     "output_type": "execute_result"
    }
   ],
   "source": [
    "X=X.reshape(-1, 1)\n",
    "model4= GaussianNB()\n",
    "model4.fit(X,y_train.values)"
   ]
  },
  {
   "cell_type": "code",
   "execution_count": 223,
   "metadata": {},
   "outputs": [
    {
     "data": {
      "text/plain": [
       "0.7855888617773085"
      ]
     },
     "execution_count": 223,
     "metadata": {},
     "output_type": "execute_result"
    }
   ],
   "source": [
    "K=5\n",
    "kf=KFold(K,shuffle=True)\n",
    "folds=list(kf.split(X))\n",
    "train_acc,val_acc=model_cross_validation(model4,X,y_train.values,folds,auc_metric)\n",
    "val_acc.mean()"
   ]
  },
  {
   "cell_type": "code",
   "execution_count": 224,
   "metadata": {},
   "outputs": [],
   "source": [
    "aucs.append(val_acc.mean())"
   ]
  },
  {
   "cell_type": "markdown",
   "metadata": {},
   "source": [
    "## Combined Model"
   ]
  },
  {
   "cell_type": "code",
   "execution_count": 266,
   "metadata": {},
   "outputs": [
    {
     "data": {
      "text/plain": [
       "(76381, 4)"
      ]
     },
     "execution_count": 266,
     "metadata": {},
     "output_type": "execute_result"
    }
   ],
   "source": [
    "multipart=x_train['parts'].values\n",
    "multipart[multipart=='False']=1\n",
    "multipart[multipart!=1]=0\n",
    "html=x_train['html'].values\n",
    "links=x_train['links'].values\n",
    "links[links==0]=0\n",
    "links[links!=0]=1\n",
    "attachments=x_train['attachments'].values\n",
    "attachments[attachments==0]=0\n",
    "attachments[attachments!=0]=1\n",
    "train_features=np.c_[multipart,html,links,attachments]\n",
    "train_features.shape"
   ]
  },
  {
   "cell_type": "code",
   "execution_count": 267,
   "metadata": {},
   "outputs": [
    {
     "data": {
      "text/plain": [
       "BernoulliNB(alpha=1.0, binarize=0.0, class_prior=None, fit_prior=False)"
      ]
     },
     "execution_count": 267,
     "metadata": {},
     "output_type": "execute_result"
    }
   ],
   "source": [
    "model5_1=BernoulliNB(fit_prior=False)\n",
    "model5_1.fit(train_features,y_train.values)"
   ]
  },
  {
   "cell_type": "code",
   "execution_count": 268,
   "metadata": {},
   "outputs": [
    {
     "data": {
      "text/plain": [
       "MultinomialNB(alpha=1.0, class_prior=None, fit_prior=False)"
      ]
     },
     "execution_count": 268,
     "metadata": {},
     "output_type": "execute_result"
    }
   ],
   "source": [
    "count_vect = CountVectorizer()\n",
    "X_train_counts = count_vect.fit_transform(x_train.subject.apply(lambda x: np.str_(x)))\n",
    "tfidf_transformer = TfidfTransformer()\n",
    "X_train_tfidf_1 = tfidf_transformer.fit_transform(X_train_counts)\n",
    "model5_2=MultinomialNB(fit_prior=False)\n",
    "model5_2.fit(X_train_tfidf_1,y_train.values)"
   ]
  },
  {
   "cell_type": "code",
   "execution_count": 269,
   "metadata": {},
   "outputs": [
    {
     "data": {
      "text/plain": [
       "MultinomialNB(alpha=1.0, class_prior=None, fit_prior=True)"
      ]
     },
     "execution_count": 269,
     "metadata": {},
     "output_type": "execute_result"
    }
   ],
   "source": [
    "count_vect = CountVectorizer()\n",
    "X_train_counts = count_vect.fit_transform(x_train.body.apply(lambda x: np.str_(x)))\n",
    "tfidf_transformer = TfidfTransformer()\n",
    "X_train_tfidf_2 = tfidf_transformer.fit_transform(X_train_counts)\n",
    "model5_3=MultinomialNB(fit_prior=True)\n",
    "model5_3.fit(X_train_tfidf_2,y_train.values)"
   ]
  },
  {
   "cell_type": "code",
   "execution_count": 238,
   "metadata": {},
   "outputs": [],
   "source": [
    "def proba(model,X):\n",
    "    return model.predict_proba(X)\n",
    "def predict(model1,X1,model2,X2,model3,X3,proba):\n",
    "    results=np.multiply(proba(model1,X1),proba(model2,X2),proba(model3,X3))\n",
    "    pred=[]\n",
    "    for i in results:\n",
    "        if np.argmax(i)==0:\n",
    "            pred.append(False)\n",
    "        else:\n",
    "            pred.append(True)\n",
    "    return pred"
   ]
  },
  {
   "cell_type": "code",
   "execution_count": 239,
   "metadata": {},
   "outputs": [],
   "source": [
    "y_pred=predict(model5_1,train_features,model5_2,X_train_tfidf_1,model5_3,X_train_tfidf_2,proba)"
   ]
  },
  {
   "cell_type": "code",
   "execution_count": 240,
   "metadata": {},
   "outputs": [
    {
     "data": {
      "text/plain": [
       "0.9217475550202275"
      ]
     },
     "execution_count": 240,
     "metadata": {},
     "output_type": "execute_result"
    }
   ],
   "source": [
    "aucs.append(np.sum(y_pred==y_train)/len(y_train))\n",
    "np.sum(y_pred==y_train)/len(y_train)"
   ]
  },
  {
   "cell_type": "markdown",
   "metadata": {},
   "source": [
    "# Analyze Best Model"
   ]
  },
  {
   "cell_type": "markdown",
   "metadata": {},
   "source": [
    "## Best Model Selection"
   ]
  },
  {
   "cell_type": "code",
   "execution_count": 241,
   "metadata": {},
   "outputs": [
    {
     "name": "stdout",
     "output_type": "stream",
     "text": [
      "best model number 3\n",
      "best AUC 0.9943551151451206\n"
     ]
    }
   ],
   "source": [
    "best_idx=np.argmax(aucs)\n",
    "print(\"best model number\",best_idx+1)\n",
    "print(\"best AUC\",aucs[best_idx])"
   ]
  },
  {
   "cell_type": "code",
   "execution_count": 242,
   "metadata": {},
   "outputs": [
    {
     "name": "stdout",
     "output_type": "stream",
     "text": [
      "best model is Message Body Model\n"
     ]
    }
   ],
   "source": [
    "print('best model is Message Body Model')"
   ]
  },
  {
   "cell_type": "markdown",
   "metadata": {},
   "source": [
    "## Analysis of Best Model"
   ]
  },
  {
   "cell_type": "code",
   "execution_count": 271,
   "metadata": {},
   "outputs": [
    {
     "data": {
      "text/plain": [
       "MultinomialNB(alpha=1.0, class_prior=None, fit_prior=True)"
      ]
     },
     "execution_count": 271,
     "metadata": {},
     "output_type": "execute_result"
    }
   ],
   "source": [
    "count_vect = CountVectorizer()\n",
    "X_train_counts = count_vect.fit_transform(x_train.body.apply(lambda x: np.str_(x)))\n",
    "tfidf_transformer = TfidfTransformer()\n",
    "X_train_tfidf = tfidf_transformer.fit_transform(X_train_counts)\n",
    "best_model=MultinomialNB()\n",
    "best_model.fit(X_train_tfidf,y_train.values)"
   ]
  },
  {
   "cell_type": "code",
   "execution_count": 272,
   "metadata": {},
   "outputs": [],
   "source": [
    "X_test_counts = count_vect.transform(x_test.body.apply(lambda x: np.str_(x)))\n",
    "X_test_tfidf = tfidf_transformer.transform(X_test_counts)"
   ]
  },
  {
   "cell_type": "code",
   "execution_count": 244,
   "metadata": {},
   "outputs": [
    {
     "name": "stdout",
     "output_type": "stream",
     "text": [
      "Test accuracy 0.9577861859188367\n",
      "AUC 0.9949422777643618\n"
     ]
    }
   ],
   "source": [
    "Y_pred=best_model.predict(X_test_tfidf)\n",
    "Y_test=y_test.values\n",
    "test_acc=np.mean(Y_pred==Y_test)\n",
    "print(\"Test accuracy\",test_acc)\n",
    "y_score=best_model.predict_proba(X_test_tfidf)[:,1]\n",
    "auc=roc_auc_score(Y_test,y_score)\n",
    "print(\"AUC\",auc)\n",
    "fpr,tpr,thresholds=roc_curve(Y_test,y_score)"
   ]
  },
  {
   "cell_type": "code",
   "execution_count": 270,
   "metadata": {},
   "outputs": [],
   "source": [
    "multipart=x_test['parts'].values\n",
    "multipart[multipart=='False']=1\n",
    "multipart[multipart!=1]=0\n",
    "html=x_test['html'].values\n",
    "links=x_test['links'].values\n",
    "links[links==0]=0\n",
    "links[links!=0]=1\n",
    "attachments=x_test['attachments'].values\n",
    "attachments[attachments==0]=0\n",
    "attachments[attachments!=0]=1\n",
    "test_features=np.c_[multipart,html,links,attachments]\n",
    "Y_test=y_test.values\n",
    "y_score=model1.predict_proba(test_features)[:,1]\n",
    "fpr1,tpr1,thresholds1=roc_curve(Y_test,y_score)"
   ]
  },
  {
   "cell_type": "code",
   "execution_count": 294,
   "metadata": {},
   "outputs": [],
   "source": [
    "count_vect2 = CountVectorizer()\n",
    "X_train_counts = count_vect2.fit_transform(x_train.subject.apply(lambda x: np.str_(x)))\n",
    "tfidf_transformer2 = TfidfTransformer()\n",
    "X_train_tfidf = tfidf_transformer2.fit_transform(X_train_counts)\n",
    "model2=MultinomialNB()\n",
    "model2.fit(X_train_tfidf,y_train.values)\n",
    "X_test_counts = count_vect2.transform(x_test.subject.apply(lambda x: np.str_(x)))\n",
    "X_test_tfidf_1 = tfidf_transformer2.transform(X_test_counts)\n",
    "Y_test=y_test.values\n",
    "y_score=model2.predict_proba(X_test_tfidf_1)[:,1]\n",
    "fpr2,tpr2,thresholds2=roc_curve(Y_test,y_score)"
   ]
  },
  {
   "cell_type": "code",
   "execution_count": 260,
   "metadata": {},
   "outputs": [],
   "source": [
    "X=x_test.receiver.values\n",
    "X=X.reshape(-1, 1)\n",
    "Y_test=y_test.values\n",
    "y_score=model4.predict_proba(X)[:,1]\n",
    "fpr3,tpr3,thresholds3=roc_curve(Y_test,y_score)"
   ]
  },
  {
   "cell_type": "code",
   "execution_count": 273,
   "metadata": {},
   "outputs": [],
   "source": [
    "def proba(model,X):\n",
    "    return model.predict_proba(X)\n",
    "def score(model1,X1,model2,X2,model3,X3,proba):\n",
    "    results=np.multiply(proba(model1,X1),proba(model2,X2),proba(model3,X3))\n",
    "    return results[:,1]\n",
    "y_score=score(model5_1,test_features,model5_2,X_test_tfidf_1,model5_3,X_test_tfidf,proba)"
   ]
  },
  {
   "cell_type": "code",
   "execution_count": 274,
   "metadata": {},
   "outputs": [],
   "source": [
    "fpr4,tpr4,thresholds4=roc_curve(Y_test,y_score)"
   ]
  },
  {
   "cell_type": "code",
   "execution_count": 275,
   "metadata": {},
   "outputs": [
    {
     "data": {
      "image/png": "[encoded data removed]",
      "text/plain": [
       "<Figure size 432x288 with 1 Axes>"
      ]
     },
     "metadata": {
      "needs_background": "light"
     },
     "output_type": "display_data"
    }
   ],
   "source": [
    "plt.plot([0,1],[0,1],\"k--\")\n",
    "plt.plot(fpr,tpr,label=\"Message Body Model\")\n",
    "plt.plot(fpr1,tpr1,label=\"Structural Information Model\")\n",
    "plt.plot(fpr2,tpr2,label=\"Subject Model\")\n",
    "plt.plot(fpr3,tpr3,label=\"Bulk-Receiver Model\")\n",
    "plt.plot(fpr4,tpr4,label=\"Combined Model\")\n",
    "plt.title(\"ROC Curve\")\n",
    "plt.xlabel(\"fpr\")\n",
    "plt.ylabel(\"tpr\")\n",
    "plt.legend(loc='best')\n",
    "plt.show()"
   ]
  },
  {
   "cell_type": "code",
   "execution_count": 276,
   "metadata": {},
   "outputs": [],
   "source": [
    "threshold_idx=np.argmin((fpr-.01)**2)+1\n",
    "tpr_1=tpr[threshold_idx]\n",
    "fpr_1=fpr[threshold_idx]"
   ]
  },
  {
   "cell_type": "code",
   "execution_count": 282,
   "metadata": {},
   "outputs": [
    {
     "data": {
      "image/png": "[encoded data removed]",
      "text/plain": [
       "<Figure size 432x288 with 1 Axes>"
      ]
     },
     "metadata": {
      "needs_background": "light"
     },
     "output_type": "display_data"
    },
    {
     "name": "stdout",
     "output_type": "stream",
     "text": [
      "percentage 0.9160396039603961\n"
     ]
    }
   ],
   "source": [
    "plt.plot([0,1],[0,1],\"k--\")\n",
    "plt.plot(fpr,tpr,label=\"Message Body Model\")\n",
    "plt.plot(fpr_1, tpr_1, marker='D', markersize=6, color=\"red\",label=\"1% fpr\")\n",
    "plt.title(\"ROC Curve\")\n",
    "plt.xlabel(\"fpr\")\n",
    "plt.ylabel(\"tpr\")\n",
    "plt.legend(loc='best')\n",
    "plt.show()\n",
    "print('percentage',tpr_1)"
   ]
  },
  {
   "cell_type": "code",
   "execution_count": 284,
   "metadata": {},
   "outputs": [],
   "source": [
    "threshold_idx=np.argmin((fpr-.002)**2)+1\n",
    "tpr_2=tpr[threshold_idx]\n",
    "fpr_2=fpr[threshold_idx]"
   ]
  },
  {
   "cell_type": "code",
   "execution_count": 285,
   "metadata": {},
   "outputs": [
    {
     "data": {
      "image/png": "[encoded data removed]",
      "text/plain": [
       "<Figure size 432x288 with 1 Axes>"
      ]
     },
     "metadata": {
      "needs_background": "light"
     },
     "output_type": "display_data"
    },
    {
     "name": "stdout",
     "output_type": "stream",
     "text": [
      "percentage 0.6501650165016502\n"
     ]
    }
   ],
   "source": [
    "pltplot([0,1],[0,1],\"k--\")\n",
    "plt.plot(fpr,tpr,label=\"Message Body Model\")\n",
    "plt.plot(fpr_2, tpr_2, marker='D', markersize=6, color=\"red\",label=\"0.02% fpr\")\n",
    "plt.title(\"ROC Curve\")\n",
    "plt.xlabel(\"fpr\")\n",
    "plt.ylabel(\"tpr\")\n",
    "plt.legend(loc='best')\n",
    "plt.show()\n",
    "print('percentage',tpr_2)"
   ]
  },
  {
   "cell_type": "markdown",
   "metadata": {},
   "source": [
    "# TREC 2006 Analysis"
   ]
  },
  {
   "cell_type": "markdown",
   "metadata": {},
   "source": [
    "## TREC 2006 Data Pre-processing"
   ]
  },
  {
   "cell_type": "code",
   "execution_count": 39,
   "metadata": {},
   "outputs": [],
   "source": [
    "index_dir='./trec06p/full'\n",
    "filename='/index'\n",
    "f=open(index_dir+filename,'r')\n",
    "lines=f.readlines()"
   ]
  },
  {
   "cell_type": "code",
   "execution_count": 40,
   "metadata": {},
   "outputs": [],
   "source": [
    "email_id=list()\n",
    "label=list()\n",
    "path=list()\n",
    "for line in lines:\n",
    "    if line.startswith('s'):\n",
    "        label.append(line[:4])\n",
    "        path.append(line[7:-1])\n",
    "    else:\n",
    "        label.append(line[:3])\n",
    "        path.append(line[6:-1])\n",
    "    email_id.append(line[-8:-1])"
   ]
  },
  {
   "cell_type": "code",
   "execution_count": 41,
   "metadata": {},
   "outputs": [
    {
     "data": {
      "text/html": [
       "<div>\n",
       "<style scoped>\n",
       "    .dataframe tbody tr th:only-of-type {\n",
       "        vertical-align: middle;\n",
       "    }\n",
       "\n",
       "    .dataframe tbody tr th {\n",
       "        vertical-align: top;\n",
       "    }\n",
       "\n",
       "    .dataframe thead th {\n",
       "        text-align: right;\n",
       "    }\n",
       "</style>\n",
       "<table border=\"1\" class=\"dataframe\">\n",
       "  <thead>\n",
       "    <tr style=\"text-align: right;\">\n",
       "      <th></th>\n",
       "      <th>label</th>\n",
       "      <th>path</th>\n",
       "    </tr>\n",
       "  </thead>\n",
       "  <tbody>\n",
       "    <tr>\n",
       "      <th>0</th>\n",
       "      <td>ham</td>\n",
       "      <td>/data/000/000</td>\n",
       "    </tr>\n",
       "    <tr>\n",
       "      <th>1</th>\n",
       "      <td>spam</td>\n",
       "      <td>/data/000/001</td>\n",
       "    </tr>\n",
       "    <tr>\n",
       "      <th>2</th>\n",
       "      <td>spam</td>\n",
       "      <td>/data/000/002</td>\n",
       "    </tr>\n",
       "    <tr>\n",
       "      <th>3</th>\n",
       "      <td>ham</td>\n",
       "      <td>/data/000/003</td>\n",
       "    </tr>\n",
       "    <tr>\n",
       "      <th>4</th>\n",
       "      <td>spam</td>\n",
       "      <td>/data/000/004</td>\n",
       "    </tr>\n",
       "  </tbody>\n",
       "</table>\n",
       "</div>"
      ],
      "text/plain": [
       "  label           path\n",
       "0   ham  /data/000/000\n",
       "1  spam  /data/000/001\n",
       "2  spam  /data/000/002\n",
       "3   ham  /data/000/003\n",
       "4  spam  /data/000/004"
      ]
     },
     "execution_count": 41,
     "metadata": {},
     "output_type": "execute_result"
    }
   ],
   "source": [
    "label=pd.Series(label)\n",
    "path=pd.Series(path)\n",
    "email_id=pd.Series(email_id)\n",
    "index=pd.DataFrame({'label':label,'path':path})\n",
    "index.head()"
   ]
  },
  {
   "cell_type": "code",
   "execution_count": 42,
   "metadata": {},
   "outputs": [
    {
     "data": {
      "text/plain": [
       "(37822, 2)"
      ]
     },
     "execution_count": 42,
     "metadata": {},
     "output_type": "execute_result"
    }
   ],
   "source": [
    ".shape"
   ]
  },
  {
   "cell_type": "code",
   "execution_count": 43,
   "metadata": {},
   "outputs": [],
   "source": [
    "email_dir='./trec06p'"
   ]
  },
  {
   "cell_type": "code",
   "execution_count": 44,
   "metadata": {},
   "outputs": [],
   "source": [
    "parts=list()\n",
    "attachments=list()\n",
    "html=list()\n",
    "subject=list()\n",
    "body=list()\n",
    "links=list()\n",
    "drop_index=list()\n",
    "receiver=list()"
   ]
  },
  {
   "cell_type": "code",
   "execution_count": 45,
   "metadata": {},
   "outputs": [],
   "source": [
    "for i in range(len(index)):\n",
    "    try:\n",
    "        f=open(email_dir+index['path'][i],'rb')\n",
    "    except:\n",
    "    # drop files do not exist\n",
    "        drop_index.append(i)\n",
    "        continue\n",
    "    b = email.message_from_binary_file(f)\n",
    "    try:\n",
    "        receiver_=b['to'].count('<')\n",
    "    except:\n",
    "        drop_index.append(i)\n",
    "        continue\n",
    "\n",
    "    body_ = \"\"\n",
    "    attachments_=0\n",
    "    html_=0 \n",
    "    links_=0\n",
    "\n",
    "    if b.is_multipart():\n",
    "        parts_=0\n",
    "        for part in b.walk():\n",
    "            parts_+=1\n",
    "            if part.get_content_type()=='text/html':\n",
    "                html_=1\n",
    "                body_= BeautifulSoup(part.get_payload(),'html.parser')\n",
    "                links_=len(body_.find_all(\"a\"))\n",
    "\n",
    "            if part.get('Content-Disposition'):\n",
    "                _,params=cgi.parse_header(part.get('Co ntent-Disposition'))\n",
    "                attachments_=len(params)\n",
    "\n",
    "            if part.get_content_type() == 'text/plain':\n",
    "                body_ = part.get_payload()  \n",
    "\n",
    "            if part.get('Subject'):\n",
    "                subject_=part.get('Subject')\n",
    "    # not multipart \n",
    "    else:\n",
    "        parts_=False\n",
    "        body_ = b.get_payload()\n",
    "        subject_=b.get('Subject')\n",
    "\n",
    "    parts.append(parts_)\n",
    "    attachments.append(attachments_)\n",
    "    html.append(html_) \n",
    "    subject.append(subject_)\n",
    "    body.append(body_)\n",
    "    links.append(links_)\n",
    "    receiver.append(receiver_)"
   ]
  },
  {
   "cell_type": "code",
   "execution_count": null,
   "metadata": {},
   "outputs": [],
   "source": [
    "email_id=email_id[~email_id.index.isin(drop_index)]\n",
    "label=label[~label.index.isin(drop_index)]\n",
    "data_all=pd.DataFrame({'email_id':email_id, 'parts':parts, 'attachments':attachments, 'html':html,'subject':subject,'body':body,'links':links,'receiver':receiver,'spam':label})\n",
    "data_all.head()   "
   ]
  },
  {
   "cell_type": "code",
   "execution_count": 47,
   "metadata": {},
   "outputs": [
    {
     "data": {
      "text/plain": [
       "(37018, 9)"
      ]
     },
     "execution_count": 47,
     "metadata": {},
     "output_type": "execute_result"
    }
   ],
   "source": [
    "data_all.shape"
   ]
  },
  {
   "cell_type": "code",
   "execution_count": 48,
   "metadata": {},
   "outputs": [],
   "source": [
    "data_all.to_csv('./emails_06.csv',index=False,header=True)"
   ]
  },
  {
   "cell_type": "markdown",
   "metadata": {},
   "source": [
    "## Performance Analysis "
   ]
  },
  {
   "cell_type": "code",
   "execution_count": 296,
   "metadata": {},
   "outputs": [
    {
     "data": {
      "text/html": [
       "<div>\n",
       "<style scoped>\n",
       "    .dataframe tbody tr th:only-of-type {\n",
       "        vertical-align: middle;\n",
       "    }\n",
       "\n",
       "    .dataframe tbody tr th {\n",
       "        vertical-align: top;\n",
       "    }\n",
       "\n",
       "    .dataframe thead th {\n",
       "        text-align: right;\n",
       "    }\n",
       "</style>\n",
       "<table border=\"1\" class=\"dataframe\">\n",
       "  <thead>\n",
       "    <tr style=\"text-align: right;\">\n",
       "      <th></th>\n",
       "      <th>email_id</th>\n",
       "      <th>parts</th>\n",
       "      <th>attachments</th>\n",
       "      <th>html</th>\n",
       "      <th>subject</th>\n",
       "      <th>body</th>\n",
       "      <th>links</th>\n",
       "      <th>receiver</th>\n",
       "      <th>spam</th>\n",
       "    </tr>\n",
       "  </thead>\n",
       "  <tbody>\n",
       "    <tr>\n",
       "      <th>0</th>\n",
       "      <td>000/001</td>\n",
       "      <td>2</td>\n",
       "      <td>0</td>\n",
       "      <td>0</td>\n",
       "      <td>re[12]:</td>\n",
       "      <td>\\n                                 ...</td>\n",
       "      <td>0</td>\n",
       "      <td>1</td>\n",
       "      <td>spam</td>\n",
       "    </tr>\n",
       "    <tr>\n",
       "      <th>1</th>\n",
       "      <td>000/002</td>\n",
       "      <td>False</td>\n",
       "      <td>0</td>\n",
       "      <td>0</td>\n",
       "      <td>Take a moment to explore this.</td>\n",
       "      <td>Academic Qualifications available from prestig...</td>\n",
       "      <td>0</td>\n",
       "      <td>1</td>\n",
       "      <td>spam</td>\n",
       "    </tr>\n",
       "    <tr>\n",
       "      <th>2</th>\n",
       "      <td>000/003</td>\n",
       "      <td>False</td>\n",
       "      <td>0</td>\n",
       "      <td>0</td>\n",
       "      <td>Greetings</td>\n",
       "      <td>Greetings all.  This is to verify your subscri...</td>\n",
       "      <td>0</td>\n",
       "      <td>1</td>\n",
       "      <td>ham</td>\n",
       "    </tr>\n",
       "    <tr>\n",
       "      <th>3</th>\n",
       "      <td>000/004</td>\n",
       "      <td>3</td>\n",
       "      <td>0</td>\n",
       "      <td>1</td>\n",
       "      <td>LOANS @ 3.17% (27 term)</td>\n",
       "      <td>&lt;html&gt;\\n&lt;head&gt;\\n&lt;meta content=\"en-us\" http-equ...</td>\n",
       "      <td>1</td>\n",
       "      <td>0</td>\n",
       "      <td>spam</td>\n",
       "    </tr>\n",
       "    <tr>\n",
       "      <th>4</th>\n",
       "      <td>000/005</td>\n",
       "      <td>False</td>\n",
       "      <td>0</td>\n",
       "      <td>0</td>\n",
       "      <td>who wants to start?</td>\n",
       "      <td>It's quiet.  Too quiet.  Well, how about a str...</td>\n",
       "      <td>0</td>\n",
       "      <td>1</td>\n",
       "      <td>ham</td>\n",
       "    </tr>\n",
       "  </tbody>\n",
       "</table>\n",
       "</div>"
      ],
      "text/plain": [
       "  email_id  parts  attachments  html                         subject  \\\n",
       "0  000/001      2            0     0                         re[12]:   \n",
       "1  000/002  False            0     0  Take a moment to explore this.   \n",
       "2  000/003  False            0     0                       Greetings   \n",
       "3  000/004      3            0     1         LOANS @ 3.17% (27 term)   \n",
       "4  000/005  False            0     0             who wants to start?   \n",
       "\n",
       "                                                body  links  receiver  spam  \n",
       "0             \\n                                 ...      0         1  spam  \n",
       "1  Academic Qualifications available from prestig...      0         1  spam  \n",
       "2  Greetings all.  This is to verify your subscri...      0         1   ham  \n",
       "3  <html>\\n<head>\\n<meta content=\"en-us\" http-equ...      1         0  spam  \n",
       "4  It's quiet.  Too quiet.  Well, how about a str...      0         1   ham  "
      ]
     },
     "execution_count": 296,
     "metadata": {},
     "output_type": "execute_result"
    }
   ],
   "source": [
    "filename='./emails_06.csv'\n",
    "data=pd.read_csv(filename)\n",
    "data.head()"
   ]
  },
  {
   "cell_type": "code",
   "execution_count": 297,
   "metadata": {},
   "outputs": [],
   "source": [
    "x_test,y_test=data.iloc[:,:-1],data.iloc[:,-1]\n",
    "y_test=y_test=='spam'"
   ]
  },
  {
   "cell_type": "code",
   "execution_count": 298,
   "metadata": {},
   "outputs": [
    {
     "name": "stdout",
     "output_type": "stream",
     "text": [
      "Test accuracy 0.9075854989464585\n",
      "AUC 0.9461201880232942\n"
     ]
    }
   ],
   "source": [
    "X_test_counts = count_vect.transform(x_test.body.apply(lambda x: np.str_(x)))\n",
    "X_test_tfidf = tfidf_transformer.transform(X_test_counts)\n",
    "Y_pred=best_model.predict(X_test_tfidf)\n",
    "Y_test=y_test.values\n",
    "test_acc=np.mean(Y_pred==Y_test)\n",
    "print(\"Test accuracy\",test_acc)\n",
    "y_score=best_model.predict_proba(X_test_tfidf)[:,1]\n",
    "auc=roc_auc_score(Y_test,y_score)\n",
    "print(\"AUC\",auc)\n",
    "fpr,tpr,thresholds=roc_curve(Y_test,y_score)"
   ]
  },
  {
   "cell_type": "code",
   "execution_count": 301,
   "metadata": {},
   "outputs": [
    {
     "name": "stdout",
     "output_type": "stream",
     "text": [
      "Test accuracy 0.6033281106488735\n",
      "AUC 0.6923101797468495\n"
     ]
    }
   ],
   "source": [
    "multipart=x_test['parts'].values\n",
    "multipart[multipart=='False']=1\n",
    "multipart[multipart!=1]=0\n",
    "html=x_test['html'].values\n",
    "links=x_test['links'].values\n",
    "links[links==0]=0\n",
    "links[links!=0]=1\n",
    "attachments=x_test['attachments'].values\n",
    "attachments[attachments==0]=0\n",
    "attachments[attachments!=0]=1\n",
    "test_features=np.c_[multipart,html,links,attachments]\n",
    "Y_test=y_test.values\n",
    "y_score=model1.predict_proba(test_features)[:,1]\n",
    "fpr1,tpr1,thresholds1=roc_curve(Y_test,y_score)\n",
    "Y_pred=model1.predict(test_features)\n",
    "test_acc=np.mean(Y_pred==Y_test)\n",
    "print(\"Test accuracy\",test_acc)\n",
    "auc=roc_auc_score(Y_test,y_score)\n",
    "print(\"AUC\",auc)"
   ]
  },
  {
   "cell_type": "code",
   "execution_count": 302,
   "metadata": {},
   "outputs": [
    {
     "name": "stdout",
     "output_type": "stream",
     "text": [
      "Test accuracy 0.7812415581608947\n",
      "AUC 0.8367378561762419\n"
     ]
    }
   ],
   "source": [
    "X_test_counts = count_vect2.transform(x_test.subject.apply(lambda x: np.str_(x)))\n",
    "X_test_tfidf_1 = tfidf_transformer2.transform(X_test_counts)\n",
    "Y_test=y_test.values\n",
    "y_score=model2.predict_proba(X_test_tfidf_1)[:,1]\n",
    "fpr2,tpr2,thresholds2=roc_curve(Y_test,y_score)\n",
    "Y_pred=model2.predict(X_test_tfidf_1)\n",
    "test_acc=np.mean(Y_pred==Y_test)\n",
    "print(\"Test accuracy\",test_acc)\n",
    "auc=roc_auc_score(Y_test,y_score)\n",
    "print(\"AUC\",auc)"
   ]
  },
  {
   "cell_type": "code",
   "execution_count": 303,
   "metadata": {},
   "outputs": [
    {
     "name": "stdout",
     "output_type": "stream",
     "text": [
      "Test accuracy 0.6535199092333459\n",
      "AUC 0.5305516725314465\n"
     ]
    }
   ],
   "source": [
    "X=x_test.receiver.values\n",
    "X=X.reshape(-1, 1)\n",
    "Y_test=y_test.values\n",
    "y_score=model4.predict_proba(X)[:,1]\n",
    "fpr3,tpr3,thresholds3=roc_curve(Y_test,y_score)\n",
    "Y_pred=model4.predict(X)\n",
    "test_acc=np.mean(Y_pred==Y_test)\n",
    "print(\"Test accuracy\",test_acc)\n",
    "auc=roc_auc_score(Y_test,y_score)\n",
    "print(\"AUC\",auc)"
   ]
  },
  {
   "cell_type": "code",
   "execution_count": 305,
   "metadata": {},
   "outputs": [
    {
     "name": "stdout",
     "output_type": "stream",
     "text": [
      "Test accuracy 0.7966394726889622\n",
      "AUC 0.8806254605325815\n"
     ]
    }
   ],
   "source": [
    "Y_pred=predict(model5_1,test_features,model5_2,X_test_tfidf_1,model5_3,X_test_tfidf,proba)\n",
    "y_score=score(model5_1,test_features,model5_2,X_test_tfidf_1,model5_3,X_test_tfidf,proba)\n",
    "fpr4,tpr4,thresholds4=roc_curve(Y_test,y_score)\n",
    "test_acc=np.mean(Y_pred==Y_test)\n",
    "print(\"Test accuracy\",test_acc)\n",
    "auc=roc_auc_score(Y_test,y_score)\n",
    "print(\"AUC\",auc)"
   ]
  },
  {
   "cell_type": "code",
   "execution_count": 306,
   "metadata": {},
   "outputs": [
    {
     "data": {
      "image/png": "[encoded data removed]",
      "text/plain": [
       "<Figure size 432x288 with 1 Axes>"
      ]
     },
     "metadata": {
      "needs_background": "light"
     },
     "output_type": "display_data"
    }
   ],
   "source": [
    "plt.plot([0,1],[0,1],\"k--\")\n",
    "plt.plot(fpr,tpr,label=\"Message Body Model\")\n",
    "plt.plot(fpr1,tpr1,label=\"Structural Information Model\")\n",
    "plt.plot(fpr2,tpr2,label=\"Subject Model\")\n",
    "plt.plot(fpr3,tpr3,label=\"Bulk-Receiver Model\")\n",
    "plt.plot(fpr4,tpr4,label=\"Combined Model\")\n",
    "plt.title(\"ROC Curve\")\n",
    "plt.xlabel(\"fpr\")\n",
    "plt.ylabel(\"tpr\")\n",
    "plt.legend(loc='best')\n",
    "plt.show()"
   ]
  },
  {
   "cell_type": "markdown",
   "metadata": {},
   "source": [
    "## Discussion"
   ]
  },
  {
   "cell_type": "markdown",
   "metadata": {},
   "source": [
    "The performances on the original test set and the TREC 2006 data are basically the same. The best classifier is based on Message Body Model."
   ]
  },
  {
   "cell_type": "markdown",
   "metadata": {},
   "source": [
    "Anti-spam systems provide methods for the user to notify the spam software that some messages have been miss-classiﬁed because it will help the software to improve the model and accuracy as well."
   ]
  },
  {
   "cell_type": "code",
   "execution_count": null,
   "metadata": {},
   "outputs": [],
   "source": []
  }
 ],
 "metadata": {
  "kernelspec": {
   "display_name": "Python 3",
   "language": "python",
   "name": "python3"
  },
  "language_info": {
   "codemirror_mode": {
    "name": "ipython",
    "version": 3
   },
   "file_extension": ".py",
   "mimetype": "text/x-python",
   "name": "python",
   "nbconvert_exporter": "python",
   "pygments_lexer": "ipython3",
   "version": "3.7.3"
  },
  "toc": {
   "base_numbering": 1,
   "nav_menu": {},
   "number_sections": true,
   "sideBar": true,
   "skip_h1_title": false,
   "title_cell": "Table of Contents",
   "title_sidebar": "Contents",
   "toc_cell": false,
   "toc_position": {},
   "toc_section_display": true,
   "toc_window_display": true
  }
 },
 "nbformat": 4,
 "nbformat_minor": 2
}
